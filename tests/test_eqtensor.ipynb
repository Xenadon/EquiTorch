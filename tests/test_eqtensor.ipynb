{
 "cells": [
  {
   "cell_type": "code",
   "execution_count": 1,
   "metadata": {},
   "outputs": [],
   "source": [
    "%load_ext autoreload\n",
    "%autoreload 2\n",
    "\n",
    "import sys\n",
    "sys.path.append('..')\n",
    "\n",
    "import torch\n",
    "\n",
    "from EqTorch.eqtensor import EqTensor"
   ]
  },
  {
   "cell_type": "code",
   "execution_count": 2,
   "metadata": {},
   "outputs": [
    {
     "name": "stdout",
     "output_type": "stream",
     "text": [
      "EqTensor([0, 4]: torch.Size([20, 25, 4]))\n",
      "EqTensor([0, 2]: torch.Size([20, 9, 4]), [3, 4]: torch.Size([20, 16, 4]))\n"
     ]
    }
   ],
   "source": [
    "N = 20\n",
    "C = 4\n",
    "A = torch.randn(N,25,C)\n",
    "E = EqTensor(A)\n",
    "print(E)\n",
    "E1 = EqTensor([torch.randn(N, 9, C), torch.randn(N,16,C)])\n",
    "print(E1)"
   ]
  },
  {
   "cell_type": "code",
   "execution_count": 3,
   "metadata": {},
   "outputs": [
    {
     "name": "stdout",
     "output_type": "stream",
     "text": [
      "True\n",
      "True\n"
     ]
    }
   ],
   "source": [
    "E2 = (E1+E).cat_degrees_as_possible()\n",
    "print(E2.data[0,4].allclose(E.data[0,4] + torch.cat(tuple(E1.data.values()), dim=-2)))\n",
    "E3 = (E1-E).cat_degrees_as_possible()\n",
    "print((-E3).data[0,4].allclose(E.data[0,4] - torch.cat(tuple(E1.data.values()), dim=-2)))"
   ]
  },
  {
   "cell_type": "code",
   "execution_count": 4,
   "metadata": {},
   "outputs": [
    {
     "name": "stdout",
     "output_type": "stream",
     "text": [
      "EqTensor([0, 1]: torch.Size([20, 4, 4]), [2, 4]: torch.Size([20, 21, 4]))\n"
     ]
    }
   ],
   "source": [
    "E4 = EqTensor([torch.randn(N, 4, C), torch.randn(N,21,C)])\n",
    "print(E4)"
   ]
  },
  {
   "cell_type": "code",
   "execution_count": 5,
   "metadata": {},
   "outputs": [
    {
     "data": {
      "text/plain": [
       "EqTensor(\n",
       "    [0, 1]: torch.Size([20, 4, 8])\n",
       "    [2, 2]: torch.Size([20, 5, 8])\n",
       "    [3, 4]: torch.Size([20, 16, 8])\n",
       ")"
      ]
     },
     "execution_count": 5,
     "metadata": {},
     "output_type": "execute_result"
    }
   ],
   "source": [
    "E1.cat(E4)"
   ]
  },
  {
   "cell_type": "code",
   "execution_count": null,
   "metadata": {},
   "outputs": [],
   "source": []
  },
  {
   "cell_type": "code",
   "execution_count": null,
   "metadata": {},
   "outputs": [],
   "source": []
  }
 ],
 "metadata": {
  "kernelspec": {
   "display_name": "ENN",
   "language": "python",
   "name": "python3"
  },
  "language_info": {
   "codemirror_mode": {
    "name": "ipython",
    "version": 3
   },
   "file_extension": ".py",
   "mimetype": "text/x-python",
   "name": "python",
   "nbconvert_exporter": "python",
   "pygments_lexer": "ipython3",
   "version": "3.12.0"
  },
  "orig_nbformat": 4
 },
 "nbformat": 4,
 "nbformat_minor": 2
}
