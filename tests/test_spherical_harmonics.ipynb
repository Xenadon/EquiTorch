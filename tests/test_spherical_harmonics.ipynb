{
 "cells": [
  {
   "cell_type": "code",
   "execution_count": 1,
   "metadata": {},
   "outputs": [],
   "source": [
    "import sys\n",
    "sys.path.append('..')\n",
    "\n",
    "import torch\n",
    "import plotly\n",
    "import plotly.graph_objects as go\n",
    "from plotly.subplots import make_subplots\n",
    "\n",
    "from equitorch.math._o3 import spherical_harmonics"
   ]
  },
  {
   "cell_type": "code",
   "execution_count": 28,
   "metadata": {},
   "outputs": [
    {
     "name": "stdout",
     "output_type": "stream",
     "text": [
      "tensor([[ 1.0000, -0.0257, -0.0066, -0.0090,  0.0190],\n",
      "        [-0.0257,  1.0015,  0.0216,  0.0147, -0.0238],\n",
      "        [-0.0066,  0.0216,  1.0057,  0.0124,  0.0272],\n",
      "        [-0.0090,  0.0147,  0.0124,  0.9927,  0.0168],\n",
      "        [ 0.0190, -0.0238,  0.0272,  0.0168,  0.9653]], dtype=torch.float64)\n"
     ]
    }
   ],
   "source": [
    "N = 2000\n",
    "C = 1\n",
    "L = 3\n",
    "r = torch.randn(N, 3, C, dtype=torch.float64)\n",
    "r = r / r.norm(dim=-2, keepdim=True)\n",
    "Ys = spherical_harmonics(r, L=(0,L), dim=-2)\n",
    "inner = torch.einsum('NPC,NQC->PQ', Ys, Ys) * 4 * torch.pi / (Ys.shape[0] * Ys.shape[-1])\n",
    "print(inner[:5,:5])"
   ]
  },
  {
   "cell_type": "code",
   "execution_count": 17,
   "metadata": {},
   "outputs": [],
   "source": [
    "def add_scatter(fig, r, func, row,col):\n",
    "    l = func.abs()\n",
    "    fig.add_trace(\n",
    "        go.Scatter3d(\n",
    "            x=r[:, 0]*l,\n",
    "            y=r[:, 1]*l,\n",
    "            z=r[:, 2]*l,\n",
    "            text=func,\n",
    "            mode='markers',\n",
    "            marker=dict(\n",
    "                size=3,\n",
    "                color=func,\n",
    "                # colorscale='Viridis',\n",
    "                colorscale='RdBu_r',\n",
    "                colorbar=dict(thickness=20, len=0.5),\n",
    "                showscale=False\n",
    "            ),\n",
    "            showlegend=False\n",
    "        ),\n",
    "        row=row, col=col\n",
    "    )\n",
    "    fig.update_scenes(\n",
    "        xaxis_visible=True,\n",
    "        yaxis_visible=True,\n",
    "        zaxis_visible=True,\n",
    "        xaxis_title=\"x\",\n",
    "        yaxis_title=\"y\",\n",
    "        zaxis_title=\"z\",\n",
    "        xaxis={'showticklabels':False},\n",
    "        yaxis={'showticklabels':False},\n",
    "        zaxis={'showticklabels':False},\n",
    "        row=row, col=col,\n",
    "        camera={'eye':{'x':1.8, 'y':1.8, 'z':1.8}},\n",
    "    )\n"
   ]
  },
  {
   "cell_type": "code",
   "execution_count": 18,
   "metadata": {},
   "outputs": [
    {
     "name": "stdout",
     "output_type": "stream",
     "text": [
      "\n"
     ]
    }
   ],
   "source": [
    "fig = make_subplots(\n",
    "    rows=4, cols=7,\n",
    "    specs=[[{'type': 'scene'} for j in range(7)] for i in range(4)],\n",
    "    # subplot_titles=[f'Y_{i}' for i in range(16)],\n",
    "    vertical_spacing=0,\n",
    "    horizontal_spacing=0\n",
    ")\n",
    "\n",
    "for l in range(0,L+1):\n",
    "    for m in range(-l,l+1):\n",
    "        add_scatter(fig, r[:,:,0], Ys[:,l**2+l+m,0], l+1, L+m+1)\n",
    "\n",
    "# Update layout\n",
    "fig.update_layout(\n",
    "    height=600,\n",
    "    width=1400,\n",
    "    title_text=\"Spherical Harmonics Visualization\",\n",
    "    # scene=dict(\n",
    "    #     xaxis_title=\"X\",\n",
    "    #     yaxis_title=\"Y\",\n",
    "    #     zaxis_title=\"Z\",\n",
    "    #     aspectmode=\"cube\"\n",
    "    # ),\n",
    "    margin={'b':50, 't':50, 'l':50, 'r':50}\n",
    ")\n",
    "\n",
    "# Update scene properties for all subplots\n",
    "\n",
    "\n",
    "# fig\n",
    "print()"
   ]
  },
  {
   "cell_type": "code",
   "execution_count": 19,
   "metadata": {},
   "outputs": [],
   "source": []
  },
  {
   "cell_type": "code",
   "execution_count": 37,
   "metadata": {},
   "outputs": [
    {
     "data": {
      "text/plain": [
       "tensor([ 0.2821,  0.4886,  0.4886,  0.0000,  0.0000,  1.0925,  0.3154,  0.0000,\n",
       "        -0.5463, -0.5900,  0.0000,  1.3711, -0.3732,  0.0000, -1.4453, -0.0000])"
      ]
     },
     "execution_count": 37,
     "metadata": {},
     "output_type": "execute_result"
    }
   ],
   "source": [
    "spherical_harmonics(torch.Tensor([0,1,1]), L=(0,L), dim=-1)"
   ]
  },
  {
   "cell_type": "code",
   "execution_count": 34,
   "metadata": {},
   "outputs": [
    {
     "data": {
      "text/plain": [
       "0.5462742152960396"
      ]
     },
     "execution_count": 34,
     "metadata": {},
     "output_type": "execute_result"
    }
   ],
   "source": [
    "import math\n",
    "math.sqrt(15/16/math.pi)"
   ]
  }
 ],
 "metadata": {
  "kernelspec": {
   "display_name": "ENN",
   "language": "python",
   "name": "python3"
  },
  "language_info": {
   "codemirror_mode": {
    "name": "ipython",
    "version": 3
   },
   "file_extension": ".py",
   "mimetype": "text/x-python",
   "name": "python",
   "nbconvert_exporter": "python",
   "pygments_lexer": "ipython3",
   "version": "3.12.4"
  }
 },
 "nbformat": 4,
 "nbformat_minor": 2
}
