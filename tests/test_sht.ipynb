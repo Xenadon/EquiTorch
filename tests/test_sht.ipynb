{
 "cells": [
  {
   "cell_type": "code",
   "execution_count": 1,
   "metadata": {},
   "outputs": [],
   "source": [
    "import sys\n",
    "sys.path.append('..')\n",
    "\n",
    "import torch_harmonics as th\n",
    "import torch\n",
    "\n",
    "from equitorch.math import *\n",
    "from equitorch.utils._indices import num_orders_in\n",
    "\n",
    "from e3nn.o3._s2grid import ToS2Grid, FromS2Grid"
   ]
  },
  {
   "cell_type": "code",
   "execution_count": 2,
   "metadata": {},
   "outputs": [
    {
     "name": "stdout",
     "output_type": "stream",
     "text": [
      "torch.Size([6, 36, 3])\n",
      "torch.Size([6, 20, 19, 3])\n",
      "tensor(5.4836e-06)\n",
      "torch.Size([6, 36, 3])\n",
      "tensor(2.0117e-06)\n"
     ]
    }
   ],
   "source": [
    "device = 'cuda'\n",
    "device = 'cpu'\n",
    "\n",
    "L = 5\n",
    "r = 20\n",
    "C = 3\n",
    "num_thetas = r\n",
    "num_phis = r-1\n",
    "N = 6\n",
    "to = ToS2Grid(L, r, normalization='integral').to(device)\n",
    "fr = FromS2Grid(r, L, normalization='integral').to(device)\n",
    "\n",
    "X = torch.Tensor(torch.randn(N,num_orders_in(L),C)).to(device)\n",
    "print(X.shape)\n",
    "\n",
    "x = torch.stack(list(to(X[:,:,i]) for i in range(X.shape[2])),dim=-1)\n",
    "x_ = isht(X, L, num_thetas, num_phis)\n",
    "print(x.shape) # thetas, phis\n",
    "print((x-x_).abs().max())\n",
    "\n",
    "X_ = sht(x_, L, num_thetas, num_phis)\n",
    "print(X_.shape) # thetas, phis\n",
    "print((X-X_).abs().max())"
   ]
  },
  {
   "cell_type": "code",
   "execution_count": 3,
   "metadata": {},
   "outputs": [
    {
     "name": "stdout",
     "output_type": "stream",
     "text": [
      "torch.Size([6, 40, 3])\n",
      "torch.Size([6, 34, 18, 3])\n",
      "torch.Size([6, 40, 3])\n",
      "tensor(2.9802e-06)\n"
     ]
    }
   ],
   "source": [
    "L = (3,6)\n",
    "C = 3\n",
    "num_thetas = 34\n",
    "num_phis = 18\n",
    "N = 6\n",
    "\n",
    "X = torch.Tensor(torch.randn(N,num_orders_in(L),C)).to(device)\n",
    "print(X.shape)\n",
    "x_ = isht(X, L, num_thetas, num_phis)\n",
    "print(x_.shape)\n",
    "X_ = sht(x_, L, num_thetas, num_phis)\n",
    "print(X_.shape) # thetas, phis\n",
    "print((X-X_).abs().max())"
   ]
  },
  {
   "cell_type": "code",
   "execution_count": null,
   "metadata": {},
   "outputs": [],
   "source": []
  },
  {
   "cell_type": "code",
   "execution_count": null,
   "metadata": {},
   "outputs": [],
   "source": []
  },
  {
   "cell_type": "code",
   "execution_count": null,
   "metadata": {},
   "outputs": [],
   "source": []
  }
 ],
 "metadata": {
  "kernelspec": {
   "display_name": "ENN",
   "language": "python",
   "name": "python3"
  },
  "language_info": {
   "codemirror_mode": {
    "name": "ipython",
    "version": 3
   },
   "file_extension": ".py",
   "mimetype": "text/x-python",
   "name": "python",
   "nbconvert_exporter": "python",
   "pygments_lexer": "ipython3",
   "version": "3.12.4"
  }
 },
 "nbformat": 4,
 "nbformat_minor": 2
}
