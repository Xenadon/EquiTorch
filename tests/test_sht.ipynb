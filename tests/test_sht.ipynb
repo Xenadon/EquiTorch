{
 "cells": [
  {
   "cell_type": "code",
   "execution_count": 1,
   "metadata": {},
   "outputs": [
    {
     "name": "stderr",
     "output_type": "stream",
     "text": [
      "/home/wangtong/miniconda3/envs/ENN/lib/python3.12/site-packages/torch/cuda/__init__.py:619: UserWarning: Can't initialize NVML\n",
      "  warnings.warn(\"Can't initialize NVML\")\n"
     ]
    }
   ],
   "source": [
    "import sys\n",
    "sys.path.append('..')\n",
    "\n",
    "from equitorch.math import *"
   ]
  },
  {
   "cell_type": "code",
   "execution_count": 7,
   "metadata": {},
   "outputs": [],
   "source": [
    "from e3nn.o3 import ToS2Grid, FromS2Grid"
   ]
  },
  {
   "cell_type": "code",
   "execution_count": 18,
   "metadata": {},
   "outputs": [],
   "source": [
    "to = ToS2Grid(1, 4,)"
   ]
  },
  {
   "cell_type": "code",
   "execution_count": 22,
   "metadata": {},
   "outputs": [
    {
     "data": {
      "text/plain": [
       "tensor([[[ 2.1184,  1.1350,  0.6663],\n",
       "         [ 2.5010,  0.1270, -1.0045],\n",
       "         [ 1.4186, -0.9554, -2.0869],\n",
       "         [-0.4948, -1.4781, -1.9468]],\n",
       "\n",
       "        [[ 2.1184,  1.1350,  0.6663],\n",
       "         [ 2.5010,  0.1270, -1.0045],\n",
       "         [ 1.4186, -0.9554, -2.0869],\n",
       "         [-0.4948, -1.4781, -1.9468]]])"
      ]
     },
     "execution_count": 22,
     "metadata": {},
     "output_type": "execute_result"
    }
   ],
   "source": [
    "to(torch.Tensor([[0,1,2,3],[0,1,2,3]]))"
   ]
  },
  {
   "cell_type": "code",
   "execution_count": 2,
   "metadata": {},
   "outputs": [],
   "source": [
    "theta, phi = grid = s2_grid(3, 4)"
   ]
  },
  {
   "cell_type": "code",
   "execution_count": 3,
   "metadata": {},
   "outputs": [
    {
     "name": "stdout",
     "output_type": "stream",
     "text": [
      "torch.Size([3, 1])\n",
      "torch.Size([1, 4])\n",
      "torch.Size([3, 4, 1])\n",
      "torch.Size([4, 1, 3])\n"
     ]
    }
   ],
   "source": [
    "(theta, phi), leg, four = legendre_fourier_on_grid(1, 3, 4)\n",
    "print(theta.shape)\n",
    "print(phi.shape)\n",
    "print(leg.shape)\n",
    "print(four.shape)"
   ]
  },
  {
   "cell_type": "code",
   "execution_count": 6,
   "metadata": {},
   "outputs": [
    {
     "data": {
      "text/plain": [
       "tensor([[ 0.0000e+00,  1.0000e+00,  1.4142e+00],\n",
       "        [ 1.4142e+00,  1.0000e+00, -6.1817e-08],\n",
       "        [-1.2363e-07,  1.0000e+00, -1.4142e+00],\n",
       "        [-1.4142e+00,  1.0000e+00,  1.6864e-08]])"
      ]
     },
     "execution_count": 6,
     "metadata": {},
     "output_type": "execute_result"
    }
   ],
   "source": [
    "four.squeeze()"
   ]
  },
  {
   "cell_type": "code",
   "execution_count": null,
   "metadata": {},
   "outputs": [],
   "source": [
    "legendre_fourier_on_grid"
   ]
  }
 ],
 "metadata": {
  "kernelspec": {
   "display_name": "ENN",
   "language": "python",
   "name": "python3"
  },
  "language_info": {
   "codemirror_mode": {
    "name": "ipython",
    "version": 3
   },
   "file_extension": ".py",
   "mimetype": "text/x-python",
   "name": "python",
   "nbconvert_exporter": "python",
   "pygments_lexer": "ipython3",
   "version": "3.12.0"
  }
 },
 "nbformat": 4,
 "nbformat_minor": 2
}
