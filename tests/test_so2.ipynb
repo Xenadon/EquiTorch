{
 "cells": [
  {
   "cell_type": "code",
   "execution_count": 1,
   "metadata": {},
   "outputs": [],
   "source": [
    "%load_ext autoreload\n",
    "%autoreload 2\n",
    "\n",
    "import sys\n",
    "sys.path.append('..')\n",
    "\n",
    "import torch\n",
    "from torch import Tensor\n",
    "\n",
    "import torch_geometric\n",
    "import e3nn\n",
    "\n",
    "from equitorch.nn._linear import _so2_indices, SO2Linear, SO3Linear, _so3_conv\n",
    "from equitorch.typing import DegreeRange\n",
    "from equitorch.utils._clebsch_gordan import blocked_CG\n",
    "from equitorch.utils._geometries import rot_on\n",
    "from equitorch.utils._indices import list_degrees"
   ]
  },
  {
   "cell_type": "code",
   "execution_count": 2,
   "metadata": {},
   "outputs": [],
   "source": [
    "float_type = torch.float32"
   ]
  },
  {
   "cell_type": "code",
   "execution_count": 3,
   "metadata": {},
   "outputs": [],
   "source": [
    "def so3_weights_to_so2(weight_so3: Tensor, L_in:DegreeRange, L_out:DegreeRange, dim=-3):\n",
    "    if dim == -2:\n",
    "        weight_so3 = weight_so3.unsqueeze(dim=-1)\n",
    "    weight_so2 = weight_so3.clone()\n",
    "    offset = 0\n",
    "    CGs = blocked_CG(L_out, L_in, L_in[1]+L_out[1])\n",
    "    ys = torch.sqrt((2*torch.arange(0, L_in[1]+L_out[1]+1)+1) / 4 / torch.pi)\n",
    "    for l_in in range(L_in[0], L_in[1]+1):\n",
    "        for l_out in range(L_out[0], L_out[1]+1):\n",
    "            l_ = min(l_in, l_out)\n",
    "            transform = torch.zeros(2*l_+1,2*l_+1)\n",
    "            for ind_l, l  in enumerate(range(l_in+l_out-2*l_, l_in+l_out+1)):\n",
    "                for ind_m, m in enumerate(range(-l_,l_+1)):\n",
    "                    # print(CGs[l_out, l_in, l])\n",
    "                    # print('l_in', 'l_out', 'l_', 'l', 'm', 'transform')\n",
    "                    print(l_in, l_out, l_, l, m, transform.shape)\n",
    "                    transform[ind_m, ind_l] = CGs[l_out, l_in, l][l_out+m, l_in+abs(m), l] * ys[l]\n",
    "            transform = transform.unsqueeze(0)\n",
    "            weight_so2[:,offset:offset+2*l_+1,:,:] = (transform @ weight_so3[:,offset:offset+2*l_+1,:,:].flatten(-2,-1)).unflatten(-1, (weight_so3.shape[-2:]))\n",
    "            offset += 2*l_+1\n",
    "    return weight_so2 if dim==-2 else weight_so2.squeeze(dim=-1)\n"
   ]
  },
  {
   "cell_type": "code",
   "execution_count": 4,
   "metadata": {},
   "outputs": [],
   "source": [
    "def init_test(N, in_channels, out_channels, l_l, l1_l, l2_l, len_W, device='cpu'):\n",
    "    r1 = torch.randn(N,in_channels,3,dtype=float_type)\n",
    "    r1 = r1 / r1.norm(dim=-1, keepdim=True)\n",
    "    r2 = torch.randn(N,3,dtype=float_type)\n",
    "    r2 = r2 / r2.norm(dim=-1, keepdim=True)\n",
    "    Y1 = e3nn.o3.spherical_harmonics(l1_l, r1, False)\n",
    "    Y2 = e3nn.o3.spherical_harmonics(l2_l, r2, False)\n",
    "    a,b,c = e3nn.o3.rand_angles(N,dtype=float_type)\n",
    "    D1 = e3nn.math.direct_sum(*(e3nn.o3.wigner_D(l1_,a,b,c) for l1_ in l1_l))\n",
    "    D2 = e3nn.math.direct_sum(*(e3nn.o3.wigner_D(l2_,a,b,c) for l2_ in l2_l))\n",
    "    Y1R = D1 @ Y1.transpose(-1,-2)\n",
    "    Y2R = (D2 @ Y2.unsqueeze(-1)).squeeze(-1)\n",
    "    D = e3nn.math.direct_sum(*(e3nn.o3.wigner_D(l_,a,b,c) for l_ in l_l)).type(float_type)\n",
    "    W = torch.randn(N, len_W,in_channels, out_channels, dtype=float_type)\n",
    "    # W = torch.ones(N, len_W,in_channels, out_channels, dtype=float_type)\n",
    "    return W.to(device), Y1.transpose(-1,-2).to(device), Y2.to(device), \\\n",
    "        Y1R.to(device), Y2R.to(device), \\\n",
    "        (a.to(device),b.to(device),c.to(device)), \\\n",
    "        D1.to(device), D2.to(device), D.to(device), r2"
   ]
  },
  {
   "cell_type": "code",
   "execution_count": 5,
   "metadata": {},
   "outputs": [],
   "source": [
    "N = 5\n",
    "l_min = l1_min = l2_min = 2\n",
    "l_max = l1_max = l2_max = 2\n",
    "# l1_min, l1_max = (1,4)\n",
    "# l2_min, l2_max = (0,11)\n",
    "# l_min, l_max = (2,7)\n",
    "\n",
    "in_channels = 2\n",
    "out_channels = 5\n"
   ]
  },
  {
   "cell_type": "code",
   "execution_count": 6,
   "metadata": {},
   "outputs": [],
   "source": [
    "so2 = SO2Linear(in_channels, out_channels, (l1_min, l1_max), (l_min, l_max), True, False)\n",
    "so3 = SO3Linear(in_channels, out_channels, (l1_min, l1_max), (l2_min, l2_max), (l_min, l_max), True, False)"
   ]
  },
  {
   "cell_type": "code",
   "execution_count": 7,
   "metadata": {},
   "outputs": [
    {
     "name": "stdout",
     "output_type": "stream",
     "text": [
      "2 2 2 0 -2 torch.Size([5, 5])\n",
      "2 2 2 0 -1 torch.Size([5, 5])\n",
      "2 2 2 0 0 torch.Size([5, 5])\n",
      "2 2 2 0 1 torch.Size([5, 5])\n",
      "2 2 2 0 2 torch.Size([5, 5])\n",
      "2 2 2 1 -2 torch.Size([5, 5])\n",
      "2 2 2 1 -1 torch.Size([5, 5])\n",
      "2 2 2 1 0 torch.Size([5, 5])\n",
      "2 2 2 1 1 torch.Size([5, 5])\n",
      "2 2 2 1 2 torch.Size([5, 5])\n",
      "2 2 2 2 -2 torch.Size([5, 5])\n",
      "2 2 2 2 -1 torch.Size([5, 5])\n",
      "2 2 2 2 0 torch.Size([5, 5])\n",
      "2 2 2 2 1 torch.Size([5, 5])\n",
      "2 2 2 2 2 torch.Size([5, 5])\n",
      "2 2 2 3 -2 torch.Size([5, 5])\n",
      "2 2 2 3 -1 torch.Size([5, 5])\n",
      "2 2 2 3 0 torch.Size([5, 5])\n",
      "2 2 2 3 1 torch.Size([5, 5])\n",
      "2 2 2 3 2 torch.Size([5, 5])\n",
      "2 2 2 4 -2 torch.Size([5, 5])\n",
      "2 2 2 4 -1 torch.Size([5, 5])\n",
      "2 2 2 4 0 torch.Size([5, 5])\n",
      "2 2 2 4 1 torch.Size([5, 5])\n",
      "2 2 2 4 2 torch.Size([5, 5])\n"
     ]
    },
    {
     "ename": "RuntimeError",
     "evalue": "Expected size for first two dimensions of batch2 tensor to be: [5, 5] but got: [5, 1].",
     "output_type": "error",
     "traceback": [
      "\u001b[0;31m---------------------------------------------------------------------------\u001b[0m",
      "\u001b[0;31mRuntimeError\u001b[0m                              Traceback (most recent call last)",
      "Cell \u001b[0;32mIn[7], line 7\u001b[0m\n\u001b[1;32m      1\u001b[0m ls \u001b[38;5;241m=\u001b[39m list_degrees((l_min, l_max), (l1_min, l1_max), (l2_min, l2_max))\n\u001b[1;32m      2\u001b[0m W_so3, X, Y, XR, YR, (a,b,c), D1, D2, D, r \u001b[38;5;241m=\u001b[39m init_test(\n\u001b[1;32m      3\u001b[0m     N, in_channels, out_channels, \n\u001b[1;32m      4\u001b[0m     \u001b[38;5;28mlist\u001b[39m(\u001b[38;5;28mrange\u001b[39m(l_min, l_max\u001b[38;5;241m+\u001b[39m\u001b[38;5;241m1\u001b[39m)), \u001b[38;5;28mlist\u001b[39m(\u001b[38;5;28mrange\u001b[39m(l1_min, l1_max\u001b[38;5;241m+\u001b[39m\u001b[38;5;241m1\u001b[39m)), \u001b[38;5;28mlist\u001b[39m(\u001b[38;5;28mrange\u001b[39m(l2_min, l2_max\u001b[38;5;241m+\u001b[39m\u001b[38;5;241m1\u001b[39m)),\n\u001b[1;32m      5\u001b[0m     \u001b[38;5;28mlen\u001b[39m(ls))\n\u001b[0;32m----> 7\u001b[0m W_so2 \u001b[38;5;241m=\u001b[39m so3_weights_to_so2(W_so3, (l1_min, l1_max), (l_min, l_max))\n",
      "Cell \u001b[0;32mIn[3], line 19\u001b[0m, in \u001b[0;36mso3_weights_to_so2\u001b[0;34m(weight_so3, L_in, L_out, dim)\u001b[0m\n\u001b[1;32m     17\u001b[0m                 transform[ind_m, ind_l] \u001b[38;5;241m=\u001b[39m CGs[l_out, l_in, l][l_out\u001b[38;5;241m+\u001b[39mm, l_in\u001b[38;5;241m+\u001b[39m\u001b[38;5;28mabs\u001b[39m(m), l] \u001b[38;5;241m*\u001b[39m ys[l]\n\u001b[1;32m     18\u001b[0m         transform \u001b[38;5;241m=\u001b[39m transform\u001b[38;5;241m.\u001b[39munsqueeze(\u001b[38;5;241m0\u001b[39m)\n\u001b[0;32m---> 19\u001b[0m         weight_so2[:,offset:offset\u001b[38;5;241m+\u001b[39m\u001b[38;5;241m2\u001b[39m\u001b[38;5;241m*\u001b[39ml_\u001b[38;5;241m+\u001b[39m\u001b[38;5;241m1\u001b[39m,:,:] \u001b[38;5;241m=\u001b[39m (transform \u001b[38;5;241m@\u001b[39m weight_so3[:,offset:offset\u001b[38;5;241m+\u001b[39m\u001b[38;5;241m2\u001b[39m\u001b[38;5;241m*\u001b[39ml_\u001b[38;5;241m+\u001b[39m\u001b[38;5;241m1\u001b[39m,:,:]\u001b[38;5;241m.\u001b[39mflatten(\u001b[38;5;241m-\u001b[39m\u001b[38;5;241m2\u001b[39m,\u001b[38;5;241m-\u001b[39m\u001b[38;5;241m1\u001b[39m))\u001b[38;5;241m.\u001b[39munflatten(\u001b[38;5;241m-\u001b[39m\u001b[38;5;241m1\u001b[39m, (weight_so3\u001b[38;5;241m.\u001b[39mshape[\u001b[38;5;241m-\u001b[39m\u001b[38;5;241m2\u001b[39m:]))\n\u001b[1;32m     20\u001b[0m         offset \u001b[38;5;241m+\u001b[39m\u001b[38;5;241m=\u001b[39m \u001b[38;5;241m2\u001b[39m\u001b[38;5;241m*\u001b[39ml_\u001b[38;5;241m+\u001b[39m\u001b[38;5;241m1\u001b[39m\n\u001b[1;32m     21\u001b[0m \u001b[38;5;28;01mreturn\u001b[39;00m weight_so2 \u001b[38;5;28;01mif\u001b[39;00m dim\u001b[38;5;241m==\u001b[39m\u001b[38;5;241m-\u001b[39m\u001b[38;5;241m2\u001b[39m \u001b[38;5;28;01melse\u001b[39;00m weight_so2\u001b[38;5;241m.\u001b[39msqueeze(dim\u001b[38;5;241m=\u001b[39m\u001b[38;5;241m-\u001b[39m\u001b[38;5;241m1\u001b[39m)\n",
      "\u001b[0;31mRuntimeError\u001b[0m: Expected size for first two dimensions of batch2 tensor to be: [5, 5] but got: [5, 1]."
     ]
    }
   ],
   "source": [
    "ls = list_degrees((l_min, l_max), (l1_min, l1_max), (l2_min, l2_max))\n",
    "W_so3, X, Y, XR, YR, (a,b,c), D1, D2, D, r = init_test(\n",
    "    N, in_channels, out_channels, \n",
    "    list(range(l_min, l_max+1)), list(range(l1_min, l1_max+1)), list(range(l2_min, l2_max+1)),\n",
    "    len(ls))\n",
    "\n",
    "W_so2 = so3_weights_to_so2(W_so3, (l1_min, l1_max), (l_min, l_max))"
   ]
  },
  {
   "cell_type": "code",
   "execution_count": null,
   "metadata": {},
   "outputs": [],
   "source": [
    "from equitorch.utils._geometries import align_to_z_wigner\n",
    "\n",
    "\n",
    "D_so2_in = align_to_z_wigner(r, (l1_min, l1_max))\n",
    "D_so2_out = align_to_z_wigner(r, (l_min, l_max))"
   ]
  },
  {
   "cell_type": "code",
   "execution_count": null,
   "metadata": {},
   "outputs": [
    {
     "data": {
      "text/plain": [
       "tensor([[[ 0.1521, -0.3799, -0.3855, -0.3357, -0.5739],\n",
       "         [-0.1186,  0.1137, -0.1234, -0.3965,  0.3965],\n",
       "         [-0.2454, -0.4902, -0.0901, -0.3988,  0.2499],\n",
       "         ...,\n",
       "         [ 0.1107, -0.1456,  0.1322,  0.0303, -0.0950],\n",
       "         [ 0.0135, -0.0315,  0.2652, -0.0560, -0.0646],\n",
       "         [-0.3217, -0.2805, -0.1048, -0.0110, -0.0058]],\n",
       "\n",
       "        [[ 0.4241,  0.5858,  0.2130, -0.3527,  0.2422],\n",
       "         [-0.4065, -0.3411,  0.0597,  0.3384, -0.2942],\n",
       "         [-0.1002, -0.2662, -0.1680, -0.2319, -0.3407],\n",
       "         ...,\n",
       "         [ 0.1807, -0.0892,  0.0884,  0.1008, -0.6223],\n",
       "         [ 0.2033, -0.0676, -0.1079,  0.0989, -0.2588],\n",
       "         [ 0.0230, -0.0820, -0.0328,  0.0288, -0.0457]],\n",
       "\n",
       "        [[ 0.0642,  0.2381, -0.0535, -0.0988,  0.2166],\n",
       "         [-0.2248,  0.2204,  0.2982,  0.3385,  0.0927],\n",
       "         [-0.0919, -0.1478, -0.3404, -0.5299,  0.2118],\n",
       "         ...,\n",
       "         [-0.1253, -0.1105, -0.3782, -0.0594,  0.0357],\n",
       "         [ 0.0873,  0.0739,  0.2264, -0.0008, -0.0105],\n",
       "         [-0.0319,  0.0060, -0.0204,  0.0053, -0.0207]],\n",
       "\n",
       "        [[-0.1755, -0.0474, -0.3571,  0.0748,  0.1908],\n",
       "         [-0.0086,  0.2872,  0.1112,  0.5830, -0.3661],\n",
       "         [-0.2748,  0.0698, -0.2673,  0.3560, -0.1497],\n",
       "         ...,\n",
       "         [ 0.0185,  0.0599, -0.0062,  0.0173,  0.0623],\n",
       "         [ 0.0441, -0.0422,  0.0287,  0.0061,  0.0225],\n",
       "         [-0.0214,  0.0119, -0.0095, -0.0037, -0.0099]],\n",
       "\n",
       "        [[ 0.4063,  0.0185,  0.3593, -0.2717, -0.1631],\n",
       "         [-0.1638, -0.5798, -0.5173,  0.4277,  0.2884],\n",
       "         [ 0.4586,  0.2495,  0.0984, -0.0656, -0.6868],\n",
       "         ...,\n",
       "         [-0.1897,  0.1270,  0.0689,  0.1600,  0.1140],\n",
       "         [-0.1470,  0.1608,  0.0431, -0.2131,  0.3108],\n",
       "         [ 0.0420,  0.0599,  0.1745, -0.1105,  0.2233]]])"
      ]
     },
     "execution_count": 84,
     "metadata": {},
     "output_type": "execute_result"
    }
   ],
   "source": [
    "rot_on(D_so2_out.transpose(-1,-2), so2.forward(rot_on(D_so2_in, X), W_so2))\n",
    "# rot_on(D, so2.forward(rot_on(D1.transpose(-1,-2), X), W_so2))"
   ]
  },
  {
   "cell_type": "code",
   "execution_count": null,
   "metadata": {},
   "outputs": [
    {
     "data": {
      "text/plain": [
       "tensor([[[-2.3485e-01, -2.5458e-01,  3.7538e-02,  4.3065e-02, -6.6671e-02],\n",
       "         [ 1.1529e-01,  5.4354e-01, -4.3774e-01,  1.2770e-01, -1.5578e-01],\n",
       "         [-1.3105e-02, -3.2032e-01, -5.4711e-02, -9.3531e-02, -3.5454e-01],\n",
       "         ...,\n",
       "         [-6.0789e-04, -1.3356e-01, -1.8051e-01, -1.0640e-01, -3.6389e-03],\n",
       "         [-1.7156e-02, -4.9925e-02, -1.5906e-01, -1.4693e-01,  5.4501e-02],\n",
       "         [-9.4884e-03, -1.1566e-02, -5.6345e-02, -6.1832e-02,  2.8461e-02]],\n",
       "\n",
       "        [[ 1.3732e-02,  2.3007e-02,  1.1126e-01,  2.1982e-01, -2.0802e-01],\n",
       "         [ 5.9295e-03, -2.0077e-01,  1.3106e-02,  1.6667e-01,  3.0641e-01],\n",
       "         [ 2.7446e-02,  2.2059e-02, -2.3188e-01, -3.0910e-01,  1.8966e-01],\n",
       "         ...,\n",
       "         [ 3.9788e-02, -1.6774e-01,  1.5215e-01, -1.8787e-01, -3.0338e-02],\n",
       "         [ 8.9428e-02,  1.3314e-02,  3.3123e-02,  1.7370e-01, -3.8402e-02],\n",
       "         [-4.5342e-02,  2.2347e-01, -7.5628e-02,  2.0798e-02,  1.9095e-01]],\n",
       "\n",
       "        [[-1.3852e-01, -1.1446e-01,  4.1548e-01,  2.1462e-01, -1.2628e-02],\n",
       "         [-1.7114e-01, -3.5694e-01,  2.8853e-01,  2.3296e-01, -2.5726e-02],\n",
       "         [ 6.6966e-02, -1.1734e-01, -1.2310e-01, -2.0325e-01, -1.4313e-02],\n",
       "         ...,\n",
       "         [-3.7148e-02,  5.0114e-02,  1.4135e-01,  1.0553e-01, -6.3103e-02],\n",
       "         [ 7.4064e-02,  2.4781e-01,  7.3461e-03, -3.7607e-01, -1.7182e-01],\n",
       "         [-1.7784e-01,  1.7843e-01, -1.9186e-02, -3.1564e-01, -3.3721e-01]],\n",
       "\n",
       "        [[ 1.0309e-01,  3.1697e-01, -1.0795e-01, -1.8351e-01, -5.6033e-02],\n",
       "         [-1.1179e-02,  2.6571e-01,  1.1792e-01, -7.5203e-02,  6.6207e-02],\n",
       "         [ 8.3622e-02, -1.2654e-01,  2.5759e-02,  3.2357e-03, -3.0689e-01],\n",
       "         ...,\n",
       "         [ 9.4870e-04,  9.4321e-02,  3.9842e-02, -1.0997e-01, -9.2779e-02],\n",
       "         [ 2.9591e-02, -1.0567e-01, -8.0442e-02, -2.6725e-01, -2.3481e-01],\n",
       "         [-1.3141e-01, -2.9434e-02, -1.2464e-01, -1.8870e-01, -1.1765e-01]],\n",
       "\n",
       "        [[ 3.0893e-02, -8.6214e-02, -3.0456e-01,  3.5242e-02, -8.9466e-02],\n",
       "         [-1.0219e-01,  2.6191e-01,  8.6972e-02, -6.2152e-02, -2.9431e-01],\n",
       "         [-2.6164e-02, -2.7738e-01, -2.0934e-01,  4.7081e-03, -1.0381e-02],\n",
       "         ...,\n",
       "         [-5.2518e-04,  9.6460e-02, -7.0681e-02, -7.3522e-02, -9.8209e-03],\n",
       "         [-1.3891e-01, -4.9798e-02,  1.4455e-01,  4.9189e-02,  1.2271e-01],\n",
       "         [ 1.1666e-01,  1.7103e-01, -1.4010e-01,  1.8248e-01, -6.1708e-02]]])"
      ]
     },
     "execution_count": 85,
     "metadata": {},
     "output_type": "execute_result"
    }
   ],
   "source": [
    "so3.forward(X, Y, W_so3)"
   ]
  },
  {
   "cell_type": "code",
   "execution_count": 86,
   "metadata": {},
   "outputs": [
    {
     "data": {
      "text/plain": [
       "tensor([4.1911, 3.7891, 3.9845, 3.5987, 4.2526])"
      ]
     },
     "execution_count": 86,
     "metadata": {},
     "output_type": "execute_result"
    }
   ],
   "source": [
    "rot_on(D_so2_out.transpose(-1,-2), so2.forward(rot_on(D_so2_in, X), W_so2)).norm(dim=(-1,-2))"
   ]
  },
  {
   "cell_type": "code",
   "execution_count": 87,
   "metadata": {},
   "outputs": [
    {
     "data": {
      "text/plain": [
       "tensor([2.8862, 2.9930, 2.9723, 2.9839, 2.8070])"
      ]
     },
     "execution_count": 87,
     "metadata": {},
     "output_type": "execute_result"
    }
   ],
   "source": [
    "so3.forward(X, Y, W_so3).norm(dim=(-1,-2))"
   ]
  },
  {
   "cell_type": "code",
   "execution_count": 88,
   "metadata": {},
   "outputs": [
    {
     "data": {
      "text/plain": [
       "tensor([1.4521, 1.2660, 1.3405, 1.2061, 1.5150])"
      ]
     },
     "execution_count": 88,
     "metadata": {},
     "output_type": "execute_result"
    }
   ],
   "source": [
    "rot_on(D_so2_out.transpose(-1,-2), so2.forward(rot_on(D_so2_in, X), W_so2)).norm(dim=(-1,-2)) / so3.forward(X, Y, W_so3).norm(dim=(-1,-2))"
   ]
  },
  {
   "cell_type": "code",
   "execution_count": null,
   "metadata": {},
   "outputs": [],
   "source": []
  },
  {
   "cell_type": "code",
   "execution_count": null,
   "metadata": {},
   "outputs": [],
   "source": []
  }
 ],
 "metadata": {
  "kernelspec": {
   "display_name": "ENN",
   "language": "python",
   "name": "python3"
  },
  "language_info": {
   "codemirror_mode": {
    "name": "ipython",
    "version": 3
   },
   "file_extension": ".py",
   "mimetype": "text/x-python",
   "name": "python",
   "nbconvert_exporter": "python",
   "pygments_lexer": "ipython3",
   "version": "3.12.0"
  }
 },
 "nbformat": 4,
 "nbformat_minor": 2
}
