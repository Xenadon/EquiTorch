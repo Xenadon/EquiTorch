{
 "cells": [
  {
   "cell_type": "code",
   "execution_count": 6,
   "metadata": {},
   "outputs": [],
   "source": [
    "import sys\n",
    "sys.path.append(\"..\")\n",
    "\n",
    "import torch\n",
    "import torch_geometric\n",
    "from torch_geometric.data import Data\n",
    "\n",
    "from equitorch.transforms import *"
   ]
  },
  {
   "cell_type": "code",
   "execution_count": 143,
   "metadata": {},
   "outputs": [
    {
     "name": "stdout",
     "output_type": "stream",
     "text": [
      "Data(pos=[50, 3])\n",
      "Data(pos=[50, 3], edge_index=[2, 36], edge_vec=[36, 3])\n"
     ]
    }
   ],
   "source": [
    "N = 50\n",
    "pos = torch.randn(N,3)\n",
    "data = Data(pos=pos)\n",
    "print(data)\n",
    "data = RadiusGraph(0.5)(data)\n",
    "print(data)"
   ]
  },
  {
   "cell_type": "code",
   "execution_count": 16,
   "metadata": {},
   "outputs": [
    {
     "name": "stdout",
     "output_type": "stream",
     "text": [
      "Data(pos=[50, 3], edge_index=[2, 36], edge_vec=[36, 3])\n"
     ]
    }
   ],
   "source": [
    "data = RadiusGraph(0.5)(data)\n",
    "print(data)"
   ]
  },
  {
   "cell_type": "code",
   "execution_count": 17,
   "metadata": {},
   "outputs": [
    {
     "name": "stdout",
     "output_type": "stream",
     "text": [
      "Data(pos=[50, 3], edge_index=[2, 36], edge_vec=[36, 3])\n",
      "Data(pos=[50, 3], edge_index=[2, 36], edge_vec=[36, 3], edge_sh=[36, 16])\n"
     ]
    }
   ],
   "source": [
    "print(data)\n",
    "data = AddEdgeSphericalHarmonics(L=3)(data)\n",
    "print(data)\n"
   ]
  },
  {
   "cell_type": "code",
   "execution_count": 48,
   "metadata": {},
   "outputs": [
    {
     "name": "stdout",
     "output_type": "stream",
     "text": [
      "Data(pos=[50, 3], edge_index=[2, 36], edge_vec=[36, 3])\n",
      "Data(pos=[50, 3], edge_index=[2, 36], edge_vec=[36, 3], R=[36, 3, 3])\n"
     ]
    }
   ],
   "source": [
    "print(data)\n",
    "data = AddEdgeAlignMatrix()(data)\n",
    "print(data)"
   ]
  },
  {
   "cell_type": "code",
   "execution_count": null,
   "metadata": {},
   "outputs": [],
   "source": []
  },
  {
   "cell_type": "code",
   "execution_count": 144,
   "metadata": {},
   "outputs": [
    {
     "name": "stdout",
     "output_type": "stream",
     "text": [
      "Data(pos=[50, 3], edge_index=[2, 36], edge_vec=[36, 3])\n",
      "Data(pos=[50, 3], edge_index=[2, 36], edge_vec=[36, 3], D=[36, 4, 4])\n",
      "Data(pos=[50, 3], edge_index=[2, 36], edge_vec=[36, 3], D=[36, 4, 4], D_3=[36, 16, 16])\n"
     ]
    }
   ],
   "source": [
    "print(data)\n",
    "data = AddEdgeAlignWignerD(L=1)(data)\n",
    "print(data)\n",
    "data = AddEdgeAlignWignerD(L=3, align_wigner_attr='D_3')(data)\n",
    "print(data)"
   ]
  }
 ],
 "metadata": {
  "kernelspec": {
   "display_name": "equitorch",
   "language": "python",
   "name": "python3"
  },
  "language_info": {
   "codemirror_mode": {
    "name": "ipython",
    "version": 3
   },
   "file_extension": ".py",
   "mimetype": "text/x-python",
   "name": "python",
   "nbconvert_exporter": "python",
   "pygments_lexer": "ipython3",
   "version": "3.12.4"
  }
 },
 "nbformat": 4,
 "nbformat_minor": 2
}
