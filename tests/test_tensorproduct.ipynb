{
 "cells": [
  {
   "cell_type": "code",
   "execution_count": 1,
   "metadata": {},
   "outputs": [
    {
     "name": "stderr",
     "output_type": "stream",
     "text": [
      "/home/wangtong/miniconda3/envs/ENN/lib/python3.12/site-packages/torch/cuda/__init__.py:619: UserWarning: Can't initialize NVML\n",
      "  warnings.warn(\"Can't initialize NVML\")\n"
     ]
    }
   ],
   "source": [
    "import sys\n",
    "sys.path.append('..')\n",
    "\n",
    "import torch\n",
    "import e3nn\n",
    "\n",
    "from equitorch.nn._tensor_product import WeightedTensorProduct, TensorProduct, TensorDot\n",
    "from equitorch.nn._linear import SO3Linear\n",
    "from equitorch.math._o3 import spherical_harmonics\n",
    "from equitorch.utils._indices import num_order_between\n",
    "from equitorch.utils._geometries import rot_on\n",
    "from equitorch.math._o3 import wigner_D"
   ]
  },
  {
   "cell_type": "code",
   "execution_count": 2,
   "metadata": {},
   "outputs": [],
   "source": [
    "import torch_geometric\n",
    "from equitorch.utils._clebsch_gordan import dense_CG\n",
    "from equitorch.utils._indices import degree_order_to_index, list_degrees, order_ptr\n",
    "\n",
    "\n",
    "def WeightedEinsum(in_channels, out_channels, l_min, l_max, l1_min, l1_max, l2_min, l2_max, device='cpu'):\n",
    "    def expand_weight(weight, weight_to, Ml1l2s, l_ind):\n",
    "        weight_to[:,*Ml1l2s,...] = weight[:,l_ind,...]\n",
    "        return weight_to\n",
    "\n",
    "    def generate_lMl1l2s(ls,l_min=0):\n",
    "        '''\n",
    "        returns:  [ (l,M,l1,l2), \n",
    "                    l_ind) ]\n",
    "        '''\n",
    "        ret = sorted([(l,degree_order_to_index(l,m,l_min),l1,l2, l_ind) \n",
    "                    for l_ind, (l, l1, l2) in enumerate(ls) \n",
    "                    for m in range(-l,l+1)])\n",
    "        ls_lMl1l2 = torch.tensor([[t[0], t[2], t[3]] for t in ret]).T\n",
    "        Ms = torch.tensor([t[1] for t in ret])\n",
    "        l_ind = torch.tensor([t[4] for t in ret])\n",
    "        return ls_lMl1l2, Ms, l_ind \n",
    "    ls = list_degrees((l_min, l_max), (l1_min, l1_max), (l2_min, l2_max))\n",
    "    ls_lMl1l2, Ms, l_ind = generate_lMl1l2s(ls, l_min)\n",
    "    l1 = ls_lMl1l2[1]-l1_min\n",
    "    l2 = ls_lMl1l2[2]-l2_min\n",
    "    CG = dense_CG((l_min, l_max), (l1_min, l1_max), (l2_min, l2_max)).to(device)\n",
    "    l1_ptr = order_ptr((l1_min, l1_max)).to(device)\n",
    "    l2_ptr = order_ptr((l2_min, l2_max)).to(device)\n",
    "    shape_W = (num_order_between(l_min, l_max), l1_max-l1_min+1, l2_max-l2_min+1)\n",
    "    l_ind = l_ind.to(device)\n",
    "    Ms = Ms.to(device)\n",
    "    l1 = l1.to(device)\n",
    "    l2 = l2.to(device)\n",
    "    def tp(X:torch.Tensor, Y:torch.Tensor, W:torch.Tensor, cw: bool, cn: bool):\n",
    "        '''\n",
    "        X: B * M1 * C\n",
    "        Y: B * M2 * C'\n",
    "        W: B * Ls * C * C' * D for fc\n",
    "           B * Ls * C = C' * D for cwc\n",
    "           B * Ls * C * C' for pw\n",
    "           B * Ls * C for cw\n",
    "        '''\n",
    "        non_contract = torch.einsum('PQR,bQc,bRC->bPQRcC', CG, X, Y)\n",
    "        inter = torch_geometric.utils.segment(non_contract, l2_ptr.reshape(1,1,1,-1))\n",
    "        inter = torch_geometric.utils.segment(inter, l1_ptr.reshape(1,1,-1)) # bPqrcC\n",
    "        weight = torch.zeros(W.shape[0],*shape_W,*(W.shape[2:]),device=device) # bPqrcCD\n",
    "        weight = expand_weight(W, weight, (Ms,l1,l2), l_ind) # bPqr...\n",
    "        if cw and cn:\n",
    "            return torch.einsum('bPqrCC, bPqrCD -> bPD', inter, weight)\n",
    "        elif cw and not cn:\n",
    "            return torch.einsum('bPqrCC, bPqrC -> bPC', inter, weight)\n",
    "        elif not cw and cn:\n",
    "            return torch.einsum('bPqrcC, bPqrcCD -> bPD', inter, weight)\n",
    "        else:\n",
    "            return torch.einsum('bPqrcC, bPqrcC -> bPcC', inter, weight)\n",
    "  \n",
    "    return tp"
   ]
  },
  {
   "cell_type": "code",
   "execution_count": 3,
   "metadata": {},
   "outputs": [],
   "source": [
    "def init(N, L, L1, L2, channel1, channel2, channel):\n",
    "    X = torch.randn(N, num_order_between(*L1), channel1)\n",
    "    Y = torch.randn(N, num_order_between(*L2), channel2)\n",
    "    wtp_cw = WeightedTensorProduct(L1, L2, L, channel1, channel1, connected=False, channel_wise=True, external_weight=True)\n",
    "    wtp_pw = WeightedTensorProduct(L1, L2, L, channel1, channel2, connected=False, channel_wise=False, external_weight=True)\n",
    "    wtp_cwc = WeightedTensorProduct(L1, L2, L, channel1, channel1, channel, connected=True, channel_wise=True, external_weight=True)\n",
    "    wtp_fc = WeightedTensorProduct(L1, L2, L, channel1, channel2, channel, connected=True, channel_wise=False, external_weight=True)\n",
    "    tp_cw = TensorProduct(L1, L2, L, True)\n",
    "    tp_pw = TensorProduct(L1, L2, L, False)\n",
    "    lin_cw = SO3Linear(L1, L2, L, channel, channel, True, True)\n",
    "    lin_fc = SO3Linear(L1, L2, L, channel, channel1, True, False)\n",
    "    weight_fc = torch.randn(N, wtp_cw.num_weights, channel1, channel2, channel)\n",
    "    ref = WeightedEinsum(0, 0, *L, *L1, *L2)\n",
    "    a,b,c = e3nn.o3.rand_angles(N)\n",
    "    D1 = wigner_D(L1, a, b, c)\n",
    "    D2 = wigner_D(L2, a, b, c)\n",
    "    D = wigner_D(L, a, b, c)\n",
    "\n",
    "    return (\n",
    "        X, Y,\n",
    "        wtp_cw, wtp_pw, wtp_cwc, wtp_fc,\n",
    "        tp_cw, tp_pw, lin_cw, lin_fc, ref,\n",
    "        weight_fc, \n",
    "        D1, D2, D\n",
    "    ) "
   ]
  },
  {
   "cell_type": "code",
   "execution_count": 4,
   "metadata": {},
   "outputs": [],
   "source": [
    "N = 2\n",
    "L = (0, 2)\n",
    "L1 = (0, 2)\n",
    "L2 = (0, 2)\n",
    "channel1 = 3\n",
    "channel2 = 2\n",
    "channel = 5\n",
    "\n",
    "# f=False\n",
    "f=True\n",
    "if f:\n",
    "    L = (1, 4)\n",
    "    L1 = (2, 6)\n",
    "    L2 = (3, 5)\n",
    "    channel1 = 3\n",
    "    channel2 = 2\n",
    "    channel = 5\n",
    "(\n",
    "    X, Y,\n",
    "    wtp_cw, wtp_pw, wtp_cwc, wtp_fc,\n",
    "    tp_cw, tp_pw, lin_cw, lin_fc, ref,\n",
    "    weight_fc, # N, wtp_cw.num_weights, channel1, channel2, channel\n",
    "    D1, D2, D\n",
    ")  = init(N, L, L1, L2, channel1, channel2, channel)"
   ]
  },
  {
   "cell_type": "code",
   "execution_count": 5,
   "metadata": {},
   "outputs": [
    {
     "name": "stdout",
     "output_type": "stream",
     "text": [
      "WeightedTensorProduct(\n",
      "  L_in1=(2, 6), L_in2=(3, 5), L_out=(1, 4), \n",
      "  tp_type=channel_wise, in_channels=3, external_weight=True\n",
      ")\n",
      "torch.Size([2, 24, 1]) torch.Size([2, 24, 1]) torch.Size([2, 24, 2]) torch.Size([2, 24, 2])\n",
      "tensor(4.7684e-07)\n",
      "tensor(1.1921e-06)\n",
      "--------------------\n",
      "tensor(2.5511e-05)\n"
     ]
    }
   ],
   "source": [
    "# for cw\n",
    "# channel_wise: C1=C2=C3, W[C] # for no-weight-tp\n",
    "# Z_{c} = X_c \\otimes_{W_{c}} Y_c \n",
    "Z_lin00 = lin_cw.forward(X[:,:,0:1], Y[:,:,0], weight_fc[:,:,0:1,0,0])\n",
    "Z_lin11 = lin_cw.forward(X[:,:,1:2], Y[:,:,1], weight_fc[:,:,1:2,0,0])\n",
    "Z_lin = torch.cat([Z_lin00, Z_lin11],dim=-1)\n",
    "Z_tp = wtp_cw.forward(X[:,:,:2], Y, weight_fc[:,:,:2,0,0])\n",
    "Z_ref = ref(X[:,:,:2], Y, weight_fc[:,:,:2,0,0], True, False)\n",
    "\n",
    "print(wtp_cw)\n",
    "\n",
    "print(Z_lin00.shape, Z_lin11.shape, Z_tp.shape, Z_ref.shape)\n",
    "print((Z_lin-Z_tp).abs().max())\n",
    "print((Z_tp-Z_ref).abs().max())\n",
    "print('--'*10)\n",
    "\n",
    "Z_tpR = rot_on(D.transpose(-1,-2),wtp_cw.forward(rot_on(D1,X[:,:,:2]), rot_on(D2,Y), weight_fc[:,:,:2,0,0]))\n",
    "print((Z_tp-Z_tpR).abs().max())"
   ]
  },
  {
   "cell_type": "code",
   "execution_count": 6,
   "metadata": {},
   "outputs": [
    {
     "name": "stdout",
     "output_type": "stream",
     "text": [
      "WeightedTensorProduct(\n",
      "  L_in1=(2, 6), L_in2=(3, 5), L_out=(1, 4), \n",
      "  tp_type=pair_wise, in1_channels=3, in2_channels=2, external_weight=True\n",
      ")\n",
      "torch.Size([2, 24, 3]) torch.Size([2, 24, 3]) torch.Size([2, 24, 6]) torch.Size([2, 24, 6]) torch.Size([2, 24, 6])\n",
      "tensor(1.4305e-06)\n",
      "tensor(4.7684e-07)\n",
      "--------------------\n",
      "tensor(3.9577e-05)\n"
     ]
    }
   ],
   "source": [
    "# for pw\n",
    "# pair_wise: C1,C2 -> C1C2, W[C1, C2] # for no-weight-tp\n",
    "# Z_{c1,c2} = X_c1 \\otimes_{W_{c1,c2}} Y_c2 \n",
    "Z_lin0_30 = lin_cw.forward(X, Y[:,:,0], weight_fc[:,:,:,0,0])\n",
    "Z_lin0_31 = lin_cw.forward(X, Y[:,:,1], weight_fc[:,:,:,1,0])\n",
    "Z_lin = torch.stack([Z_lin0_30, Z_lin0_31],dim=-1).flatten(-2,-1)\n",
    "Z_tp = wtp_pw.forward(X, Y, weight_fc[:,:,:,:,0]).flatten(-2,-1)\n",
    "\n",
    "print(wtp_pw)\n",
    "\n",
    "Z_ref = ref(X, Y, weight_fc[:,:,:,:,0], False, False).flatten(-2,-1)\n",
    "print(Z_lin0_30.shape, Z_lin0_31.shape, Z_lin.shape, Z_tp.shape, Z_ref.shape)\n",
    "print((Z_lin-Z_tp).abs().max())\n",
    "print((Z_tp-Z_ref).abs().max())\n",
    "print('--'*10)\n",
    "\n",
    "Z_tpR = rot_on(D.transpose(-1,-2),wtp_pw.forward(rot_on(D1,X), rot_on(D2,Y), weight_fc[:,:,:,:,0]).flatten(-2,-1))\n",
    "print((Z_tp-Z_tpR).abs().max())"
   ]
  },
  {
   "cell_type": "code",
   "execution_count": 7,
   "metadata": {},
   "outputs": [
    {
     "name": "stdout",
     "output_type": "stream",
     "text": [
      "WeightedTensorProduct(\n",
      "  L_in1=(2, 6), L_in2=(3, 5), L_out=(1, 4), \n",
      "  tp_type=channel_wise_connected, in_channels=3, out_channels=5, external_weight=True\n",
      ")\n",
      "torch.Size([2, 24, 5]) torch.Size([2, 24, 5]) torch.Size([2, 24, 5]) torch.Size([2, 24, 5])\n",
      "tensor(9.5367e-07)\n",
      "tensor(9.5367e-07)\n",
      "--------------------\n",
      "tensor(4.7922e-05)\n"
     ]
    }
   ],
   "source": [
    "# for cwc\n",
    "# channel_wise_connected: C1=C2 -> C3, W[C,C3]\n",
    "# Z_c3 = X_c \\otimes_{W_{c,c3}} Y_c\n",
    "Z_lin00 = lin_fc.forward(X[:,:,0:1], Y[:,:,0], weight_fc[:,:,0:1,0,:])\n",
    "Z_lin11 = lin_fc.forward(X[:,:,1:2], Y[:,:,1], weight_fc[:,:,1:2,0,:])\n",
    "Z_lin = Z_lin00 + Z_lin11\n",
    "Z_tp = wtp_cwc.forward(X[:,:,:2], Y, weight_fc[:,:,:2,0,:])\n",
    "Z_ref = ref(X[:,:,:2], Y, weight_fc[:,:,:2,0,:], True, True)\n",
    "\n",
    "print(wtp_cwc)\n",
    "\n",
    "print(Z_lin00.shape, Z_lin11.shape, Z_tp.shape, Z_ref.shape)\n",
    "print((Z_lin-Z_tp).abs().max())\n",
    "print((Z_tp-Z_ref).abs().max())\n",
    "print('--'*10)\n",
    "\n",
    "Z_tpR = rot_on(D.transpose(-1,-2),wtp_cwc.forward(rot_on(D1,X[:,:,:2]), rot_on(D2,Y), weight_fc[:,:,:2,0,:]))\n",
    "print((Z_tp-Z_tpR).abs().max())"
   ]
  },
  {
   "cell_type": "code",
   "execution_count": 8,
   "metadata": {},
   "outputs": [
    {
     "name": "stdout",
     "output_type": "stream",
     "text": [
      "WeightedTensorProduct(\n",
      "  L_in1=(2, 6), L_in2=(3, 5), L_out=(1, 4), \n",
      "  tp_type=fully_connected, in1_channels=3, in2_channels=2, out_channels=5, external_weight=True\n",
      ")\n",
      "torch.Size([2, 24, 5]) torch.Size([2, 24, 5]) torch.Size([2, 24, 5]) torch.Size([2, 24, 5]) torch.Size([2, 24, 5])\n",
      "tensor(1.9073e-06)\n",
      "tensor(1.9073e-06)\n",
      "--------------------\n",
      "tensor(7.5817e-05)\n"
     ]
    }
   ],
   "source": [
    "# for fc\n",
    "# fully_connected: C1, C2 -> C3, W[C1,C2,C3]\n",
    "# Z_c3 = X_c1 \\otimes_{W_{c1,c2,c3}} Y_c2\n",
    "Z_lin0_30 = lin_fc.forward(X, Y[:,:,0], weight_fc[:,:,:,0,:])\n",
    "Z_lin0_31 = lin_fc.forward(X, Y[:,:,1], weight_fc[:,:,:,1,:])\n",
    "Z_lin = Z_lin0_30 + Z_lin0_31\n",
    "Z_tp = wtp_fc.forward(X, Y, weight_fc)\n",
    "Z_ref = ref(X, Y, weight_fc, False, True)\n",
    "\n",
    "print(wtp_fc)\n",
    "\n",
    "print(Z_lin0_30.shape, Z_lin0_31.shape, Z_lin.shape, Z_tp.shape, Z_ref.shape)\n",
    "print((Z_lin-Z_tp).abs().max())\n",
    "print((Z_tp-Z_ref).abs().max())\n",
    "print('--'*10)\n",
    "\n",
    "Z_tpR = rot_on(D.transpose(-1,-2),wtp_fc.forward(rot_on(D1,X), rot_on(D2,Y), weight_fc))\n",
    "print((Z_tp-Z_tpR).abs().max())"
   ]
  },
  {
   "cell_type": "code",
   "execution_count": 9,
   "metadata": {},
   "outputs": [],
   "source": [
    "weight_fc = weight_fc.fill_(1)"
   ]
  },
  {
   "cell_type": "code",
   "execution_count": 10,
   "metadata": {},
   "outputs": [
    {
     "name": "stdout",
     "output_type": "stream",
     "text": [
      "TensorProduct(L_in1=(2, 6), L_in2=(3, 5), L_out=(1, 4), channel_wise=True)\n",
      "torch.Size([2, 24, 1]) torch.Size([2, 24, 1]) torch.Size([2, 24, 2]) torch.Size([2, 24, 2])\n",
      "tensor(4.7684e-07)\n",
      "tensor(1.4305e-06)\n",
      "--------------------\n",
      "tensor(2.4080e-05)\n"
     ]
    }
   ],
   "source": [
    "# for cw\n",
    "# channel_wise: C1=C2=C3, for no-weight-tp\n",
    "# Z_{c} = X_c \\otimes Y_c \n",
    "Z_lin00 = lin_cw.forward(X[:,:,0:1], Y[:,:,0], weight_fc[:,:,0:1,0,0])\n",
    "Z_lin11 = lin_cw.forward(X[:,:,1:2], Y[:,:,1], weight_fc[:,:,1:2,0,0])\n",
    "Z_lin = torch.cat([Z_lin00, Z_lin11],dim=-1)\n",
    "Z_tp = tp_cw.forward(X[:,:,:2], Y)\n",
    "Z_ref = ref(X[:,:,:2], Y, weight_fc[:,:,:2,0,0], True, False)\n",
    "\n",
    "print(tp_cw)\n",
    "\n",
    "print(Z_lin00.shape, Z_lin11.shape, Z_tp.shape, Z_ref.shape)\n",
    "print((Z_lin-Z_tp).abs().max())\n",
    "print((Z_tp-Z_ref).abs().max())\n",
    "print('--'*10)\n",
    "\n",
    "Z_tpR = rot_on(D.transpose(-1,-2),tp_cw.forward(rot_on(D1,X[:,:,:2]), rot_on(D2,Y)))\n",
    "print((Z_tp-Z_tpR).abs().max())"
   ]
  },
  {
   "cell_type": "code",
   "execution_count": 11,
   "metadata": {},
   "outputs": [
    {
     "name": "stdout",
     "output_type": "stream",
     "text": [
      "TensorProduct(L_in1=(2, 6), L_in2=(3, 5), L_out=(1, 4), channel_wise=False)\n",
      "torch.Size([2, 24, 3]) torch.Size([2, 24, 3]) torch.Size([2, 24, 6]) torch.Size([2, 24, 6]) torch.Size([2, 24, 6])\n",
      "tensor(4.7684e-07)\n",
      "tensor(1.4305e-06)\n",
      "--------------------\n",
      "tensor(3.0756e-05)\n"
     ]
    }
   ],
   "source": [
    "# for pw\n",
    "# pair_wise: C1,C2 -> C1C2, W[C1, C2] for no-weight-tp\n",
    "# Z_{c1,c2} = X_c1 \\otimes_{W_{c1,c2}} Y_c2 \n",
    "Z_lin0_30 = lin_cw.forward(X, Y[:,:,0], weight_fc[:,:,:,0,0])\n",
    "Z_lin0_31 = lin_cw.forward(X, Y[:,:,1], weight_fc[:,:,:,1,0])\n",
    "Z_lin = torch.stack([Z_lin0_30, Z_lin0_31],dim=-1).flatten(-2,-1)\n",
    "Z_tp = tp_pw.forward(X, Y).flatten(-2,-1)\n",
    "Z_ref = ref(X, Y, weight_fc[:,:,:,:,0], False, False).flatten(-2,-1)\n",
    "\n",
    "print(tp_pw)\n",
    "\n",
    "print(Z_lin0_30.shape, Z_lin0_31.shape, Z_lin.shape, Z_tp.shape, Z_ref.shape)\n",
    "print((Z_lin-Z_tp).abs().max())\n",
    "print((Z_tp-Z_ref).abs().max())\n",
    "print('--'*10)\n",
    "\n",
    "Z_tpR = rot_on(D.transpose(-1,-2),tp_pw.forward(rot_on(D1,X), rot_on(D2,Y)).flatten(-2,-1))\n",
    "print((Z_tp-Z_tpR).abs().max())"
   ]
  },
  {
   "cell_type": "code",
   "execution_count": 12,
   "metadata": {},
   "outputs": [
    {
     "name": "stdout",
     "output_type": "stream",
     "text": [
      "TensorDot(L=(1, 5), channel_wise=True)\n",
      "torch.Size([5, 5, 2]) tensor(7.0572e-05)\n",
      "----------------------------------------\n",
      "TensorDot(L=(1, 5), channel_wise=False)\n",
      "torch.Size([5, 5, 3, 2]) tensor(7.0572e-05)\n"
     ]
    }
   ],
   "source": [
    "# TensorDot\n",
    "N = 5\n",
    "L = (1, 5)\n",
    "channel1 = 3\n",
    "channel2 = 2\n",
    "channel = 5\n",
    "(X,Y,_,_,_,_,_,_,_,_,_,_,D1,D2,D) = init(N, L, L, L, channel1, channel2, channel)\n",
    "\n",
    "td_cw = TensorDot(L, True)\n",
    "print(td_cw)\n",
    "d_cw = td_cw.forward(X[:,:,:2], Y)\n",
    "d_cwR = td_cw.forward(rot_on(D1,X[:,:,:2]), rot_on(D2,Y))\n",
    "print(d_cw.shape, (d_cw-d_cwR).abs().max())\n",
    "print('--'*20)\n",
    "\n",
    "td_pw = TensorDot(L, False)\n",
    "print(td_pw)\n",
    "d_pw = td_pw.forward(X, Y)\n",
    "d_pwR = td_pw.forward(rot_on(D1,X), rot_on(D2,Y))\n",
    "print(d_pw.shape, (d_pw-d_pwR).abs().max())"
   ]
  },
  {
   "cell_type": "code",
   "execution_count": null,
   "metadata": {},
   "outputs": [],
   "source": []
  },
  {
   "cell_type": "code",
   "execution_count": null,
   "metadata": {},
   "outputs": [],
   "source": []
  }
 ],
 "metadata": {
  "kernelspec": {
   "display_name": "ENN",
   "language": "python",
   "name": "python3"
  },
  "language_info": {
   "codemirror_mode": {
    "name": "ipython",
    "version": 3
   },
   "file_extension": ".py",
   "mimetype": "text/x-python",
   "name": "python",
   "nbconvert_exporter": "python",
   "pygments_lexer": "ipython3",
   "version": "3.12.0"
  }
 },
 "nbformat": 4,
 "nbformat_minor": 2
}
